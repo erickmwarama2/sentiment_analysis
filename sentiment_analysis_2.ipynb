{
  "nbformat": 4,
  "nbformat_minor": 0,
  "metadata": {
    "colab": {
      "provenance": []
    },
    "kernelspec": {
      "name": "python3",
      "display_name": "Python 3"
    },
    "language_info": {
      "name": "python"
    }
  },
  "cells": [
    {
      "cell_type": "code",
      "execution_count": 1,
      "metadata": {
        "id": "uz0JN8N4b1aA"
      },
      "outputs": [],
      "source": [
        "import tensorflow as tf\n",
        "from tensorflow.keras import datasets, layers, models, preprocessing\n",
        "import tensorflow_datasets as tfds"
      ]
    },
    {
      "cell_type": "code",
      "source": [
        "max_len = 200\n",
        "n_words = 10000\n",
        "dim_embedding = 256\n",
        "EPOCHS = 20\n",
        "BATCH_SIZE = 500"
      ],
      "metadata": {
        "id": "JPiqSftHcA_g"
      },
      "execution_count": 2,
      "outputs": []
    },
    {
      "cell_type": "code",
      "source": [
        "def load_data():\n",
        "  (X_train, y_train), (X_test, y_test) = datasets.imdb.load_data(num_words=n_words)\n",
        "\n",
        "  X_train = preprocessing.sequence.pad_sequences(X_train, maxlen=max_len)\n",
        "  X_test = preprocessing.sequence.pad_sequences(X_test, maxlen=max_len)\n",
        "\n",
        "  return (X_train, y_train), (X_test, y_test)"
      ],
      "metadata": {
        "id": "lJfYSnBOcJwo"
      },
      "execution_count": 3,
      "outputs": []
    },
    {
      "cell_type": "code",
      "source": [
        "def build_model():\n",
        "  model = models.Sequential()\n",
        "\n",
        "  model.add(layers.Embedding(n_words, dim_embedding, input_length=max_len))\n",
        "  model.add(layers.Dropout(0.3))\n",
        "  model.add(layers.GlobalMaxPool1D())\n",
        "  model.add(layers.Dense(128, activation='relu'))\n",
        "  model.add(layers.Dropout(0.5))\n",
        "  model.add(layers.Dense(1, activation='sigmoid'))\n",
        "  return model"
      ],
      "metadata": {
        "id": "NihorMM2cfk9"
      },
      "execution_count": 4,
      "outputs": []
    },
    {
      "cell_type": "code",
      "source": [
        "(X_train, y_train), (X_test, y_test) = load_data()"
      ],
      "metadata": {
        "colab": {
          "base_uri": "https://localhost:8080/"
        },
        "id": "jW6EkhGmdP1J",
        "outputId": "f5eb651e-c94e-4890-a597-213d6e3c3128"
      },
      "execution_count": 5,
      "outputs": [
        {
          "output_type": "stream",
          "name": "stdout",
          "text": [
            "Downloading data from https://storage.googleapis.com/tensorflow/tf-keras-datasets/imdb.npz\n",
            "17464789/17464789 [==============================] - 0s 0us/step\n"
          ]
        }
      ]
    },
    {
      "cell_type": "code",
      "source": [
        "model = build_model()\n",
        "model.summary()"
      ],
      "metadata": {
        "colab": {
          "base_uri": "https://localhost:8080/"
        },
        "id": "p2ihsjPGdW4V",
        "outputId": "fd6991c9-9ff6-4853-cd0d-5a9664bacabe"
      },
      "execution_count": 6,
      "outputs": [
        {
          "output_type": "stream",
          "name": "stdout",
          "text": [
            "Model: \"sequential\"\n",
            "_________________________________________________________________\n",
            " Layer (type)                Output Shape              Param #   \n",
            "=================================================================\n",
            " embedding (Embedding)       (None, 200, 256)          2560000   \n",
            "                                                                 \n",
            " dropout (Dropout)           (None, 200, 256)          0         \n",
            "                                                                 \n",
            " global_max_pooling1d (Globa  (None, 256)              0         \n",
            " lMaxPooling1D)                                                  \n",
            "                                                                 \n",
            " dense (Dense)               (None, 128)               32896     \n",
            "                                                                 \n",
            " dropout_1 (Dropout)         (None, 128)               0         \n",
            "                                                                 \n",
            " dense_1 (Dense)             (None, 1)                 129       \n",
            "                                                                 \n",
            "=================================================================\n",
            "Total params: 2,593,025\n",
            "Trainable params: 2,593,025\n",
            "Non-trainable params: 0\n",
            "_________________________________________________________________\n"
          ]
        }
      ]
    },
    {
      "cell_type": "code",
      "source": [
        "model.compile(optimizer=\"adam\", loss=\"binary_crossentropy\", metrics=[\"accuracy\"])"
      ],
      "metadata": {
        "id": "xKsUsFZ1deKD"
      },
      "execution_count": 9,
      "outputs": []
    },
    {
      "cell_type": "code",
      "source": [
        "score = model.fit(X_train, y_train, epochs=EPOCHS, batch_size=BATCH_SIZE, validation_data=(X_test, y_test))"
      ],
      "metadata": {
        "colab": {
          "base_uri": "https://localhost:8080/"
        },
        "id": "AWvlka5wdopd",
        "outputId": "0c1fc239-df45-41c9-9461-d8868d9f7743"
      },
      "execution_count": 10,
      "outputs": [
        {
          "output_type": "stream",
          "name": "stdout",
          "text": [
            "Epoch 1/20\n",
            "50/50 [==============================] - 27s 510ms/step - loss: 0.6708 - accuracy: 0.6269 - val_loss: 0.6294 - val_accuracy: 0.7864\n",
            "Epoch 2/20\n",
            "50/50 [==============================] - 25s 502ms/step - loss: 0.4577 - accuracy: 0.8356 - val_loss: 0.3656 - val_accuracy: 0.8566\n",
            "Epoch 3/20\n",
            "50/50 [==============================] - 25s 504ms/step - loss: 0.2795 - accuracy: 0.8870 - val_loss: 0.3129 - val_accuracy: 0.8697\n",
            "Epoch 4/20\n",
            "50/50 [==============================] - 25s 504ms/step - loss: 0.2165 - accuracy: 0.9160 - val_loss: 0.2932 - val_accuracy: 0.8765\n",
            "Epoch 5/20\n",
            "50/50 [==============================] - 26s 522ms/step - loss: 0.1706 - accuracy: 0.9366 - val_loss: 0.2907 - val_accuracy: 0.8739\n",
            "Epoch 6/20\n",
            "50/50 [==============================] - 25s 499ms/step - loss: 0.1343 - accuracy: 0.9552 - val_loss: 0.2990 - val_accuracy: 0.8698\n",
            "Epoch 7/20\n",
            "50/50 [==============================] - 25s 502ms/step - loss: 0.1035 - accuracy: 0.9674 - val_loss: 0.3046 - val_accuracy: 0.8682\n",
            "Epoch 8/20\n",
            "50/50 [==============================] - 25s 503ms/step - loss: 0.0799 - accuracy: 0.9769 - val_loss: 0.3175 - val_accuracy: 0.8653\n",
            "Epoch 9/20\n",
            "50/50 [==============================] - 25s 501ms/step - loss: 0.0596 - accuracy: 0.9842 - val_loss: 0.3318 - val_accuracy: 0.8626\n",
            "Epoch 10/20\n",
            "50/50 [==============================] - 25s 504ms/step - loss: 0.0436 - accuracy: 0.9900 - val_loss: 0.3518 - val_accuracy: 0.8583\n",
            "Epoch 11/20\n",
            "50/50 [==============================] - 25s 504ms/step - loss: 0.0332 - accuracy: 0.9934 - val_loss: 0.3673 - val_accuracy: 0.8579\n",
            "Epoch 12/20\n",
            "50/50 [==============================] - 25s 500ms/step - loss: 0.0262 - accuracy: 0.9946 - val_loss: 0.3897 - val_accuracy: 0.8534\n",
            "Epoch 13/20\n",
            "50/50 [==============================] - 26s 522ms/step - loss: 0.0202 - accuracy: 0.9963 - val_loss: 0.4057 - val_accuracy: 0.8547\n",
            "Epoch 14/20\n",
            "50/50 [==============================] - 25s 503ms/step - loss: 0.0156 - accuracy: 0.9972 - val_loss: 0.4242 - val_accuracy: 0.8514\n",
            "Epoch 15/20\n",
            "50/50 [==============================] - 25s 504ms/step - loss: 0.0134 - accuracy: 0.9974 - val_loss: 0.4298 - val_accuracy: 0.8538\n",
            "Epoch 16/20\n",
            "50/50 [==============================] - 25s 500ms/step - loss: 0.0103 - accuracy: 0.9984 - val_loss: 0.4479 - val_accuracy: 0.8518\n",
            "Epoch 17/20\n",
            "50/50 [==============================] - 25s 502ms/step - loss: 0.0091 - accuracy: 0.9988 - val_loss: 0.4622 - val_accuracy: 0.8502\n",
            "Epoch 18/20\n",
            "50/50 [==============================] - 25s 499ms/step - loss: 0.0078 - accuracy: 0.9986 - val_loss: 0.4761 - val_accuracy: 0.8498\n",
            "Epoch 19/20\n",
            "50/50 [==============================] - 25s 498ms/step - loss: 0.0063 - accuracy: 0.9992 - val_loss: 0.4977 - val_accuracy: 0.8473\n",
            "Epoch 20/20\n",
            "50/50 [==============================] - 26s 517ms/step - loss: 0.0058 - accuracy: 0.9991 - val_loss: 0.4966 - val_accuracy: 0.8496\n"
          ]
        }
      ]
    },
    {
      "cell_type": "code",
      "source": [
        "score = model.evaluate(X_test, y_test)"
      ],
      "metadata": {
        "colab": {
          "base_uri": "https://localhost:8080/"
        },
        "id": "WHOR_Uj2dy1u",
        "outputId": "04a545db-2a13-4c81-8fe8-901bb66130e6"
      },
      "execution_count": 11,
      "outputs": [
        {
          "output_type": "stream",
          "name": "stdout",
          "text": [
            "782/782 [==============================] - 7s 9ms/step - loss: 0.4966 - accuracy: 0.8496\n"
          ]
        }
      ]
    },
    {
      "cell_type": "code",
      "source": [
        "score"
      ],
      "metadata": {
        "colab": {
          "base_uri": "https://localhost:8080/"
        },
        "id": "DyO00IrHgQ8O",
        "outputId": "0b323924-65ad-49bf-d9ca-c11ac47aec9a"
      },
      "execution_count": 12,
      "outputs": [
        {
          "output_type": "execute_result",
          "data": {
            "text/plain": [
              "[0.4966193735599518, 0.8496400117874146]"
            ]
          },
          "metadata": {},
          "execution_count": 12
        }
      ]
    },
    {
      "cell_type": "code",
      "source": [],
      "metadata": {
        "id": "XfMufJDDgTyT"
      },
      "execution_count": null,
      "outputs": []
    }
  ]
}